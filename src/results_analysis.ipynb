{
 "cells": [
  {
   "cell_type": "code",
   "execution_count": null,
   "outputs": [],
   "source": [
    "import os\n",
    "import pandas as pd\n",
    "\n",
    "import src.framework__data_set as framework__data_set\n",
    "import src.utils as utils\n",
    "from train_and_validate import train_or_validate_one_epoch, format_number\n",
    "\n",
    "import warnings\n",
    "warnings.filterwarnings(\"ignore\", category=UserWarning, message=\"MPS available but not used.\")"
   ],
   "metadata": {
    "collapsed": false
   },
   "id": "1290bdec06b12d19"
  },
  {
   "cell_type": "markdown",
   "source": [
    "# Set the following variables:\n",
    "\n",
    "- **model_dir_name**: the name of the directory in output; ex. 'LSTM_1'\n",
    "- **metric**: the data metric to test; ex. 'container_cpu'\n",
    "- **application_name**: the name of the application to test; ex. 'collector'"
   ],
   "metadata": {
    "collapsed": false
   },
   "id": "87053f7bd7b5d4ec"
  },
  {
   "cell_type": "code",
   "execution_count": null,
   "outputs": [],
   "source": [
    "model_dir_name = 'DeepAR_0'\n",
    "metric = 'container_cpu'\n",
    "application_name = 'collector'"
   ],
   "metadata": {
    "collapsed": false
   },
   "id": "5513d5ce5f2a2704"
  },
  {
   "cell_type": "code",
   "execution_count": null,
   "outputs": [],
   "source": [
    "assert os.path.exists(os.path.join(os.path.dirname(os.getcwd()), 'output', model_dir_name, 'config.yml')), \\\n",
    "        f'No config file found in {os.path.join(os.path.dirname(os.getcwd()), \"output\", model_dir_name)}'\n",
    "config_path = os.path.join(os.path.dirname(os.getcwd()), 'output', model_dir_name, 'config.yml')\n",
    "config = utils.get_config(config_path)\n",
    "config.metric = metric\n",
    "config.application_name = application_name\n",
    "config.output_path = None    "
   ],
   "metadata": {
    "collapsed": false
   },
   "id": "c0cf52f46795f47"
  },
  {
   "cell_type": "code",
   "execution_count": null,
   "outputs": [],
   "source": [
    "main_dir = os.path.dirname(os.getcwd())\n",
    "work_dir = os.path.join(main_dir, 'output', model_dir_name)\n",
    "model = utils.load_model(model_name=config.model_name, work_dir=work_dir)"
   ],
   "metadata": {
    "collapsed": false
   },
   "id": "a673300f95e4064f"
  },
  {
   "cell_type": "code",
   "execution_count": null,
   "outputs": [],
   "source": [
    "data = framework__data_set.get_data_set(\n",
    "        metric=config.metric,\n",
    "        application_name=config.application_name,\n",
    "        path_to_data='../data/'\n",
    "    )"
   ],
   "metadata": {
    "collapsed": false
   },
   "id": "78d44991b88c9af8"
  },
  {
   "cell_type": "code",
   "execution_count": null,
   "outputs": [],
   "source": [
    "data.set_configurations(config)\n",
    "data.prepare_data_for_run(config.output_path, record_logs_to_txt=True)\n",
    "data.split_to_train_and_test()\n",
    "data.transform_and_scale_data()"
   ],
   "metadata": {
    "collapsed": false
   },
   "id": "ad7768b84075f916"
  },
  {
   "cell_type": "code",
   "execution_count": null,
   "outputs": [],
   "source": [
    "utils.disable_pytorch_lightning_logging()"
   ],
   "metadata": {
    "collapsed": false
   },
   "id": "37bd0afb51132d94"
  },
  {
   "cell_type": "code",
   "execution_count": null,
   "outputs": [],
   "source": [
    "test_metrics_dict = train_or_validate_one_epoch(epoch_idx=None, model=model, data=data, \n",
    "                                                look_back=config.look_back, output_path=None, mode='test', show_plots_flag=True, limit=5)"
   ],
   "metadata": {
    "collapsed": false
   },
   "id": "ddec3d6633b859b7"
  },
  {
   "cell_type": "code",
   "execution_count": null,
   "outputs": [],
   "source": [
    "results_data = [\n",
    "        [\"Test\",\n",
    "         format_number(test_metrics_dict[\"mae\"]),\n",
    "         format_number(test_metrics_dict[\"mape\"]),\n",
    "         format_number(test_metrics_dict[\"mse\"]),\n",
    "         format_number(test_metrics_dict[\"rmse\"])]\n",
    "    ]\n",
    "headers = [\"Data\", \"avg MAE\", \"avg MAPE\", \"avg MSE\", \"avg RMSE\"]\n",
    "\n",
    "df = pd.DataFrame(results_data, columns=headers)\n",
    "df"
   ],
   "metadata": {
    "collapsed": false
   },
   "id": "6aab95828ed054ef"
  },
  {
   "cell_type": "code",
   "execution_count": null,
   "outputs": [],
   "source": [],
   "metadata": {
    "collapsed": false
   },
   "id": "ad70d0bb759dd366"
  }
 ],
 "metadata": {
  "kernelspec": {
   "display_name": "Python 3",
   "language": "python",
   "name": "python3"
  },
  "language_info": {
   "codemirror_mode": {
    "name": "ipython",
    "version": 2
   },
   "file_extension": ".py",
   "mimetype": "text/x-python",
   "name": "python",
   "nbconvert_exporter": "python",
   "pygments_lexer": "ipython2",
   "version": "2.7.6"
  }
 },
 "nbformat": 4,
 "nbformat_minor": 5
}
